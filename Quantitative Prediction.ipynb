{
 "cells": [
  {
   "cell_type": "code",
   "execution_count": 1,
   "id": "de77ea8e-18e5-49df-ae45-4a722391a72a",
   "metadata": {},
   "outputs": [
    {
     "name": "stderr",
     "output_type": "stream",
     "text": [
      "Some weights of the model checkpoint at bert-base-uncased were not used when initializing BertForMaskedLM: ['cls.seq_relationship.bias', 'bert.pooler.dense.weight', 'cls.seq_relationship.weight', 'bert.pooler.dense.bias']\n",
      "- This IS expected if you are initializing BertForMaskedLM from the checkpoint of a model trained on another task or with another architecture (e.g. initializing a BertForSequenceClassification model from a BertForPreTraining model).\n",
      "- This IS NOT expected if you are initializing BertForMaskedLM from the checkpoint of a model that you expect to be exactly identical (initializing a BertForSequenceClassification model from a BertForSequenceClassification model).\n"
     ]
    }
   ],
   "source": [
    "from transformers import BertTokenizer, BertForMaskedLM\n",
    "import torch\n",
    "\n",
    "tokenizer = BertTokenizer.from_pretrained('bert-base-uncased')\n",
    "model = BertForMaskedLM.from_pretrained('bert-base-uncased')"
   ]
  },
  {
   "cell_type": "code",
   "execution_count": 2,
   "id": "53682939-4aba-42b1-aefa-027382448640",
   "metadata": {},
   "outputs": [],
   "source": [
    "import pandas as pd"
   ]
  },
  {
   "cell_type": "code",
   "execution_count": 3,
   "id": "d0a7512a-dc37-4199-9caa-0043a6616189",
   "metadata": {},
   "outputs": [],
   "source": [
    "df1 = pd.read_json('small_training_data.json')"
   ]
  },
  {
   "cell_type": "code",
   "execution_count": 4,
   "id": "c85bf17a-38ca-4191-b8ec-8d4bce1d6124",
   "metadata": {},
   "outputs": [
    {
     "data": {
      "text/html": [
       "<div>\n",
       "<style scoped>\n",
       "    .dataframe tbody tr th:only-of-type {\n",
       "        vertical-align: middle;\n",
       "    }\n",
       "\n",
       "    .dataframe tbody tr th {\n",
       "        vertical-align: top;\n",
       "    }\n",
       "\n",
       "    .dataframe thead th {\n",
       "        text-align: right;\n",
       "    }\n",
       "</style>\n",
       "<table border=\"1\" class=\"dataframe\">\n",
       "  <thead>\n",
       "    <tr style=\"text-align: right;\">\n",
       "      <th></th>\n",
       "      <th>id</th>\n",
       "      <th>title</th>\n",
       "      <th>publish_date</th>\n",
       "      <th>number</th>\n",
       "      <th>offset</th>\n",
       "      <th>length</th>\n",
       "      <th>magnitude</th>\n",
       "      <th>masked</th>\n",
       "      <th>title_sci_10E</th>\n",
       "      <th>title_char</th>\n",
       "      <th>title_sci_10E_char</th>\n",
       "    </tr>\n",
       "  </thead>\n",
       "  <tbody>\n",
       "    <tr>\n",
       "      <th>0</th>\n",
       "      <td>4271</td>\n",
       "      <td>Ryan O'Neal to guest star on '90210'</td>\n",
       "      <td>20100107</td>\n",
       "      <td>90210</td>\n",
       "      <td>30</td>\n",
       "      <td>5</td>\n",
       "      <td>5</td>\n",
       "      <td>Ryan O'Neal to guest star on '[Num]'</td>\n",
       "      <td>Ryan O'Neal to guest star on '[Num]'</td>\n",
       "      <td>Ryan O'Neal to guest star on '[Num]'</td>\n",
       "      <td>Ryan O'Neal to guest star on '[Num]'</td>\n",
       "    </tr>\n",
       "    <tr>\n",
       "      <th>1</th>\n",
       "      <td>278032</td>\n",
       "      <td>Fact sheet and screens released for God of War...</td>\n",
       "      <td>20110606</td>\n",
       "      <td>3</td>\n",
       "      <td>72</td>\n",
       "      <td>1</td>\n",
       "      <td>1</td>\n",
       "      <td>Fact sheet and screens released for God of War...</td>\n",
       "      <td>Fact sheet and screens released for God of War...</td>\n",
       "      <td>Fact sheet and screens released for God of War...</td>\n",
       "      <td>Fact sheet and screens released for God of War...</td>\n",
       "    </tr>\n",
       "    <tr>\n",
       "      <th>2</th>\n",
       "      <td>281843</td>\n",
       "      <td>Reality Steve names remaining three 'mystery m...</td>\n",
       "      <td>20110614</td>\n",
       "      <td>2</td>\n",
       "      <td>60</td>\n",
       "      <td>1</td>\n",
       "      <td>1</td>\n",
       "      <td>Reality Steve names remaining three 'mystery m...</td>\n",
       "      <td>Reality Steve names remaining three 'mystery m...</td>\n",
       "      <td>Reality Steve names remaining three 'mystery m...</td>\n",
       "      <td>Reality Steve names remaining three 'mystery m...</td>\n",
       "    </tr>\n",
       "    <tr>\n",
       "      <th>3</th>\n",
       "      <td>298868</td>\n",
       "      <td>'Kate Plus 8': Kate Gosselin brings out the ab...</td>\n",
       "      <td>20110730</td>\n",
       "      <td>8</td>\n",
       "      <td>11</td>\n",
       "      <td>1</td>\n",
       "      <td>1</td>\n",
       "      <td>'Kate Plus [Num]': Kate Gosselin brings out th...</td>\n",
       "      <td>'Kate Plus [Num]': Kate Gosselin brings out th...</td>\n",
       "      <td>'Kate Plus [Num]': Kate Gosselin brings out th...</td>\n",
       "      <td>'Kate Plus [Num]': Kate Gosselin brings out th...</td>\n",
       "    </tr>\n",
       "    <tr>\n",
       "      <th>4</th>\n",
       "      <td>366413</td>\n",
       "      <td>ISL Releases FY 2011-2012 Illinois Public Libr...</td>\n",
       "      <td>20120113</td>\n",
       "      <td>2011</td>\n",
       "      <td>16</td>\n",
       "      <td>4</td>\n",
       "      <td>4</td>\n",
       "      <td>ISL Releases FY [Num]-2012 Illinois Public Lib...</td>\n",
       "      <td>ISL Releases FY [Num]-2.0120000000E+03 Illinoi...</td>\n",
       "      <td>ISL Releases FY [Num]- 2 0 1 2 Illinois Public...</td>\n",
       "      <td>ISL Releases FY [Num]- 2 . 0 1 2 0 0 0 0 0 0 0...</td>\n",
       "    </tr>\n",
       "  </tbody>\n",
       "</table>\n",
       "</div>"
      ],
      "text/plain": [
       "       id                                              title  publish_date  \\\n",
       "0    4271               Ryan O'Neal to guest star on '90210'      20100107   \n",
       "1  278032  Fact sheet and screens released for God of War...      20110606   \n",
       "2  281843  Reality Steve names remaining three 'mystery m...      20110614   \n",
       "3  298868  'Kate Plus 8': Kate Gosselin brings out the ab...      20110730   \n",
       "4  366413  ISL Releases FY 2011-2012 Illinois Public Libr...      20120113   \n",
       "\n",
       "   number  offset  length  magnitude  \\\n",
       "0   90210      30       5          5   \n",
       "1       3      72       1          1   \n",
       "2       2      60       1          1   \n",
       "3       8      11       1          1   \n",
       "4    2011      16       4          4   \n",
       "\n",
       "                                              masked  \\\n",
       "0               Ryan O'Neal to guest star on '[Num]'   \n",
       "1  Fact sheet and screens released for God of War...   \n",
       "2  Reality Steve names remaining three 'mystery m...   \n",
       "3  'Kate Plus [Num]': Kate Gosselin brings out th...   \n",
       "4  ISL Releases FY [Num]-2012 Illinois Public Lib...   \n",
       "\n",
       "                                       title_sci_10E  \\\n",
       "0               Ryan O'Neal to guest star on '[Num]'   \n",
       "1  Fact sheet and screens released for God of War...   \n",
       "2  Reality Steve names remaining three 'mystery m...   \n",
       "3  'Kate Plus [Num]': Kate Gosselin brings out th...   \n",
       "4  ISL Releases FY [Num]-2.0120000000E+03 Illinoi...   \n",
       "\n",
       "                                          title_char  \\\n",
       "0               Ryan O'Neal to guest star on '[Num]'   \n",
       "1  Fact sheet and screens released for God of War...   \n",
       "2  Reality Steve names remaining three 'mystery m...   \n",
       "3  'Kate Plus [Num]': Kate Gosselin brings out th...   \n",
       "4  ISL Releases FY [Num]- 2 0 1 2 Illinois Public...   \n",
       "\n",
       "                                  title_sci_10E_char  \n",
       "0               Ryan O'Neal to guest star on '[Num]'  \n",
       "1  Fact sheet and screens released for God of War...  \n",
       "2  Reality Steve names remaining three 'mystery m...  \n",
       "3  'Kate Plus [Num]': Kate Gosselin brings out th...  \n",
       "4  ISL Releases FY [Num]- 2 . 0 1 2 0 0 0 0 0 0 0...  "
      ]
     },
     "execution_count": 4,
     "metadata": {},
     "output_type": "execute_result"
    }
   ],
   "source": [
    "df1"
   ]
  },
  {
   "cell_type": "code",
   "execution_count": 5,
   "id": "ab06105d-514e-4010-932d-efaa4f4f8ee7",
   "metadata": {
    "scrolled": true
   },
   "outputs": [
    {
     "data": {
      "text/html": [
       "<div>\n",
       "<style scoped>\n",
       "    .dataframe tbody tr th:only-of-type {\n",
       "        vertical-align: middle;\n",
       "    }\n",
       "\n",
       "    .dataframe tbody tr th {\n",
       "        vertical-align: top;\n",
       "    }\n",
       "\n",
       "    .dataframe thead th {\n",
       "        text-align: right;\n",
       "    }\n",
       "</style>\n",
       "<table border=\"1\" class=\"dataframe\">\n",
       "  <thead>\n",
       "    <tr style=\"text-align: right;\">\n",
       "      <th></th>\n",
       "      <th>title</th>\n",
       "      <th>masked</th>\n",
       "      <th>length</th>\n",
       "    </tr>\n",
       "  </thead>\n",
       "  <tbody>\n",
       "    <tr>\n",
       "      <th>0</th>\n",
       "      <td>Ryan O'Neal to guest star on '90210'</td>\n",
       "      <td>Ryan O'Neal to guest star on '[Num]'</td>\n",
       "      <td>5</td>\n",
       "    </tr>\n",
       "    <tr>\n",
       "      <th>1</th>\n",
       "      <td>Fact sheet and screens released for God of War...</td>\n",
       "      <td>Fact sheet and screens released for God of War...</td>\n",
       "      <td>1</td>\n",
       "    </tr>\n",
       "    <tr>\n",
       "      <th>2</th>\n",
       "      <td>Reality Steve names remaining three 'mystery m...</td>\n",
       "      <td>Reality Steve names remaining three 'mystery m...</td>\n",
       "      <td>1</td>\n",
       "    </tr>\n",
       "    <tr>\n",
       "      <th>3</th>\n",
       "      <td>'Kate Plus 8': Kate Gosselin brings out the ab...</td>\n",
       "      <td>'Kate Plus [Num]': Kate Gosselin brings out th...</td>\n",
       "      <td>1</td>\n",
       "    </tr>\n",
       "    <tr>\n",
       "      <th>4</th>\n",
       "      <td>ISL Releases FY 2011-2012 Illinois Public Libr...</td>\n",
       "      <td>ISL Releases FY [Num]-2012 Illinois Public Lib...</td>\n",
       "      <td>4</td>\n",
       "    </tr>\n",
       "  </tbody>\n",
       "</table>\n",
       "</div>"
      ],
      "text/plain": [
       "                                               title  \\\n",
       "0               Ryan O'Neal to guest star on '90210'   \n",
       "1  Fact sheet and screens released for God of War...   \n",
       "2  Reality Steve names remaining three 'mystery m...   \n",
       "3  'Kate Plus 8': Kate Gosselin brings out the ab...   \n",
       "4  ISL Releases FY 2011-2012 Illinois Public Libr...   \n",
       "\n",
       "                                              masked  length  \n",
       "0               Ryan O'Neal to guest star on '[Num]'       5  \n",
       "1  Fact sheet and screens released for God of War...       1  \n",
       "2  Reality Steve names remaining three 'mystery m...       1  \n",
       "3  'Kate Plus [Num]': Kate Gosselin brings out th...       1  \n",
       "4  ISL Releases FY [Num]-2012 Illinois Public Lib...       4  "
      ]
     },
     "execution_count": 5,
     "metadata": {},
     "output_type": "execute_result"
    }
   ],
   "source": [
    "X = df1[['title', 'masked', 'length']]\n",
    "X"
   ]
  },
  {
   "cell_type": "code",
   "execution_count": 6,
   "id": "47dc60c6-03f1-4e91-b13d-d72bfc009ef1",
   "metadata": {},
   "outputs": [
    {
     "data": {
      "text/html": [
       "<div>\n",
       "<style scoped>\n",
       "    .dataframe tbody tr th:only-of-type {\n",
       "        vertical-align: middle;\n",
       "    }\n",
       "\n",
       "    .dataframe tbody tr th {\n",
       "        vertical-align: top;\n",
       "    }\n",
       "\n",
       "    .dataframe thead th {\n",
       "        text-align: right;\n",
       "    }\n",
       "</style>\n",
       "<table border=\"1\" class=\"dataframe\">\n",
       "  <thead>\n",
       "    <tr style=\"text-align: right;\">\n",
       "      <th></th>\n",
       "      <th>number</th>\n",
       "    </tr>\n",
       "  </thead>\n",
       "  <tbody>\n",
       "    <tr>\n",
       "      <th>0</th>\n",
       "      <td>90210</td>\n",
       "    </tr>\n",
       "    <tr>\n",
       "      <th>1</th>\n",
       "      <td>3</td>\n",
       "    </tr>\n",
       "    <tr>\n",
       "      <th>2</th>\n",
       "      <td>2</td>\n",
       "    </tr>\n",
       "    <tr>\n",
       "      <th>3</th>\n",
       "      <td>8</td>\n",
       "    </tr>\n",
       "    <tr>\n",
       "      <th>4</th>\n",
       "      <td>2011</td>\n",
       "    </tr>\n",
       "  </tbody>\n",
       "</table>\n",
       "</div>"
      ],
      "text/plain": [
       "   number\n",
       "0   90210\n",
       "1       3\n",
       "2       2\n",
       "3       8\n",
       "4    2011"
      ]
     },
     "execution_count": 6,
     "metadata": {},
     "output_type": "execute_result"
    }
   ],
   "source": [
    "y = df1[['number']]\n",
    "y"
   ]
  },
  {
   "cell_type": "code",
   "execution_count": 7,
   "id": "f6621711-7275-4985-86cd-4efebaaa0e30",
   "metadata": {},
   "outputs": [],
   "source": [
    "text = list(X['title'])"
   ]
  },
  {
   "cell_type": "code",
   "execution_count": 8,
   "id": "ff4fb138-3e8e-4439-bc29-d4c2e6121ce5",
   "metadata": {
    "scrolled": true
   },
   "outputs": [
    {
     "data": {
      "text/plain": [
       "[\"Ryan O'Neal to guest star on '90210'\",\n",
       " 'Fact sheet and screens released for God of War: Origins Collection on PS3',\n",
       " \"Reality Steve names remaining three 'mystery men' on Season 2 of 'Bachelor Pad'\",\n",
       " \"'Kate Plus 8': Kate Gosselin brings out the abs with Jon around\",\n",
       " 'ISL Releases FY 2011-2012 Illinois Public Library Annual Report']"
      ]
     },
     "execution_count": 8,
     "metadata": {},
     "output_type": "execute_result"
    }
   ],
   "source": [
    "text"
   ]
  },
  {
   "cell_type": "code",
   "execution_count": 9,
   "id": "01f3313b-6827-4537-8d14-fcce336cde31",
   "metadata": {},
   "outputs": [],
   "source": [
    "#with open('clean.txt', 'r') as fp:\n",
    " #   text = fp.read().split('\\n')"
   ]
  },
  {
   "cell_type": "code",
   "execution_count": 10,
   "id": "189d6d62-80e1-42d1-a74c-40d84a6534dd",
   "metadata": {},
   "outputs": [
    {
     "data": {
      "text/plain": [
       "[\"Ryan O'Neal to guest star on '90210'\",\n",
       " 'Fact sheet and screens released for God of War: Origins Collection on PS3',\n",
       " \"Reality Steve names remaining three 'mystery men' on Season 2 of 'Bachelor Pad'\",\n",
       " \"'Kate Plus 8': Kate Gosselin brings out the abs with Jon around\",\n",
       " 'ISL Releases FY 2011-2012 Illinois Public Library Annual Report']"
      ]
     },
     "execution_count": 10,
     "metadata": {},
     "output_type": "execute_result"
    }
   ],
   "source": [
    "text[:5]"
   ]
  },
  {
   "cell_type": "code",
   "execution_count": 11,
   "id": "82888412-68d8-49be-a338-21955cbe9234",
   "metadata": {},
   "outputs": [],
   "source": [
    "inputs = tokenizer(text, return_tensors='pt', max_length=512, truncation=True, padding='max_length')"
   ]
  },
  {
   "cell_type": "code",
   "execution_count": 12,
   "id": "af75b73b-c4f9-4a16-9b00-d3d565c37c5e",
   "metadata": {
    "scrolled": true
   },
   "outputs": [
    {
     "data": {
      "text/plain": [
       "{'input_ids': tensor([[ 101, 4575, 1051,  ...,    0,    0,    0],\n",
       "        [ 101, 2755, 7123,  ...,    0,    0,    0],\n",
       "        [ 101, 4507, 3889,  ...,    0,    0,    0],\n",
       "        [ 101, 1005, 5736,  ...,    0,    0,    0],\n",
       "        [ 101, 2003, 2140,  ...,    0,    0,    0]]), 'token_type_ids': tensor([[0, 0, 0,  ..., 0, 0, 0],\n",
       "        [0, 0, 0,  ..., 0, 0, 0],\n",
       "        [0, 0, 0,  ..., 0, 0, 0],\n",
       "        [0, 0, 0,  ..., 0, 0, 0],\n",
       "        [0, 0, 0,  ..., 0, 0, 0]]), 'attention_mask': tensor([[1, 1, 1,  ..., 0, 0, 0],\n",
       "        [1, 1, 1,  ..., 0, 0, 0],\n",
       "        [1, 1, 1,  ..., 0, 0, 0],\n",
       "        [1, 1, 1,  ..., 0, 0, 0],\n",
       "        [1, 1, 1,  ..., 0, 0, 0]])}"
      ]
     },
     "execution_count": 12,
     "metadata": {},
     "output_type": "execute_result"
    }
   ],
   "source": [
    "inputs"
   ]
  },
  {
   "cell_type": "code",
   "execution_count": 13,
   "id": "83ae0349-d731-4b56-bada-b71de2d62343",
   "metadata": {},
   "outputs": [],
   "source": [
    "inputs['labels'] = inputs.input_ids.detach().clone()"
   ]
  },
  {
   "cell_type": "code",
   "execution_count": 14,
   "id": "f3cc7796-97fd-440a-b25e-7c66e71248f7",
   "metadata": {},
   "outputs": [
    {
     "data": {
      "text/plain": [
       "dict_keys(['input_ids', 'token_type_ids', 'attention_mask', 'labels'])"
      ]
     },
     "execution_count": 14,
     "metadata": {},
     "output_type": "execute_result"
    }
   ],
   "source": [
    "inputs.keys()"
   ]
  },
  {
   "cell_type": "code",
   "execution_count": 15,
   "id": "f36fe537-f4ac-46c9-8d75-f469d3941954",
   "metadata": {},
   "outputs": [],
   "source": [
    "mask_array = []\n",
    "for sentence in X['masked']:\n",
    "    temp = []\n",
    "    for inp in sentence.split():\n",
    "        temp.append(inp == '[Num]')\n",
    "    mask_array.append(temp)"
   ]
  },
  {
   "cell_type": "code",
   "execution_count": 16,
   "id": "39ad5486-e97c-4649-b98a-77997f00a2ba",
   "metadata": {
    "scrolled": true
   },
   "outputs": [
    {
     "data": {
      "text/plain": [
       "[[False, False, False, False, False, False, False],\n",
       " [False,\n",
       "  False,\n",
       "  False,\n",
       "  False,\n",
       "  False,\n",
       "  False,\n",
       "  False,\n",
       "  False,\n",
       "  False,\n",
       "  False,\n",
       "  False,\n",
       "  False,\n",
       "  False],\n",
       " [False,\n",
       "  False,\n",
       "  False,\n",
       "  False,\n",
       "  False,\n",
       "  False,\n",
       "  False,\n",
       "  False,\n",
       "  False,\n",
       "  True,\n",
       "  False,\n",
       "  False,\n",
       "  False],\n",
       " [False,\n",
       "  False,\n",
       "  False,\n",
       "  False,\n",
       "  False,\n",
       "  False,\n",
       "  False,\n",
       "  False,\n",
       "  False,\n",
       "  False,\n",
       "  False,\n",
       "  False],\n",
       " [False, False, False, False, False, False, False, False, False]]"
      ]
     },
     "execution_count": 16,
     "metadata": {},
     "output_type": "execute_result"
    }
   ],
   "source": [
    "mask_array"
   ]
  },
  {
   "cell_type": "code",
   "execution_count": 17,
   "id": "5e129a81-bd9a-44a2-abef-956b014adcac",
   "metadata": {},
   "outputs": [],
   "source": [
    "import numpy as np\n",
    "selection = []\n",
    "\n",
    "for i in range(len(mask_array)):\n",
    "    selection.append(\n",
    "        np.nonzero(mask_array[i])[0].tolist()\n",
    "    )"
   ]
  },
  {
   "cell_type": "code",
   "execution_count": 18,
   "id": "4b9ef43e-f869-4ff5-b0fa-d26b23096c79",
   "metadata": {},
   "outputs": [
    {
     "data": {
      "text/plain": [
       "[[], [], [9], [], []]"
      ]
     },
     "execution_count": 18,
     "metadata": {},
     "output_type": "execute_result"
    }
   ],
   "source": [
    "selection[:5]"
   ]
  },
  {
   "cell_type": "code",
   "execution_count": 19,
   "id": "633a5de2-b8af-4199-b6d4-91a87d676ef6",
   "metadata": {},
   "outputs": [],
   "source": [
    "for i in range(inputs.input_ids.shape[0]):\n",
    "    inputs.input_ids[i, selection[i]] = 103"
   ]
  },
  {
   "cell_type": "code",
   "execution_count": 20,
   "id": "dd797c34-e007-4135-bd25-8977b20f8d9c",
   "metadata": {},
   "outputs": [
    {
     "data": {
      "text/plain": [
       "tensor([[ 101, 4575, 1051,  ...,    0,    0,    0],\n",
       "        [ 101, 2755, 7123,  ...,    0,    0,    0],\n",
       "        [ 101, 4507, 3889,  ...,    0,    0,    0],\n",
       "        [ 101, 1005, 5736,  ...,    0,    0,    0],\n",
       "        [ 101, 2003, 2140,  ...,    0,    0,    0]])"
      ]
     },
     "execution_count": 20,
     "metadata": {},
     "output_type": "execute_result"
    }
   ],
   "source": [
    "inputs.input_ids"
   ]
  },
  {
   "cell_type": "code",
   "execution_count": 21,
   "id": "80e2734d-a149-4146-992f-66f2a9074b08",
   "metadata": {},
   "outputs": [],
   "source": [
    "class MeditationsDataset(torch.utils.data.Dataset):\n",
    "    def __init__(self, encodings):\n",
    "        self.encodings = encodings\n",
    "    def __getitem__(self, idx):\n",
    "        return {key: torch.tensor(val[idx]) for key, val in self.encodings.items()}\n",
    "    def __len__(self):\n",
    "        return len(self.encodings.input_ids)"
   ]
  },
  {
   "cell_type": "code",
   "execution_count": 22,
   "id": "58cc3400-584c-46ba-b63c-ba98aa00800e",
   "metadata": {},
   "outputs": [],
   "source": [
    "dataset = MeditationsDataset(inputs)"
   ]
  },
  {
   "cell_type": "code",
   "execution_count": 23,
   "id": "22c02bd3-61a8-4a5f-ae9f-e07830c81473",
   "metadata": {},
   "outputs": [],
   "source": [
    "loader = torch.utils.data.DataLoader(dataset, batch_size=16, shuffle=True)"
   ]
  },
  {
   "cell_type": "code",
   "execution_count": 24,
   "id": "56e8403b-628f-4c64-ae4c-1c79a05b258a",
   "metadata": {},
   "outputs": [
    {
     "data": {
      "text/plain": [
       "BertForMaskedLM(\n",
       "  (bert): BertModel(\n",
       "    (embeddings): BertEmbeddings(\n",
       "      (word_embeddings): Embedding(30522, 768, padding_idx=0)\n",
       "      (position_embeddings): Embedding(512, 768)\n",
       "      (token_type_embeddings): Embedding(2, 768)\n",
       "      (LayerNorm): LayerNorm((768,), eps=1e-12, elementwise_affine=True)\n",
       "      (dropout): Dropout(p=0.1, inplace=False)\n",
       "    )\n",
       "    (encoder): BertEncoder(\n",
       "      (layer): ModuleList(\n",
       "        (0-11): 12 x BertLayer(\n",
       "          (attention): BertAttention(\n",
       "            (self): BertSelfAttention(\n",
       "              (query): Linear(in_features=768, out_features=768, bias=True)\n",
       "              (key): Linear(in_features=768, out_features=768, bias=True)\n",
       "              (value): Linear(in_features=768, out_features=768, bias=True)\n",
       "              (dropout): Dropout(p=0.1, inplace=False)\n",
       "            )\n",
       "            (output): BertSelfOutput(\n",
       "              (dense): Linear(in_features=768, out_features=768, bias=True)\n",
       "              (LayerNorm): LayerNorm((768,), eps=1e-12, elementwise_affine=True)\n",
       "              (dropout): Dropout(p=0.1, inplace=False)\n",
       "            )\n",
       "          )\n",
       "          (intermediate): BertIntermediate(\n",
       "            (dense): Linear(in_features=768, out_features=3072, bias=True)\n",
       "            (intermediate_act_fn): GELUActivation()\n",
       "          )\n",
       "          (output): BertOutput(\n",
       "            (dense): Linear(in_features=3072, out_features=768, bias=True)\n",
       "            (LayerNorm): LayerNorm((768,), eps=1e-12, elementwise_affine=True)\n",
       "            (dropout): Dropout(p=0.1, inplace=False)\n",
       "          )\n",
       "        )\n",
       "      )\n",
       "    )\n",
       "  )\n",
       "  (cls): BertOnlyMLMHead(\n",
       "    (predictions): BertLMPredictionHead(\n",
       "      (transform): BertPredictionHeadTransform(\n",
       "        (dense): Linear(in_features=768, out_features=768, bias=True)\n",
       "        (transform_act_fn): GELUActivation()\n",
       "        (LayerNorm): LayerNorm((768,), eps=1e-12, elementwise_affine=True)\n",
       "      )\n",
       "      (decoder): Linear(in_features=768, out_features=30522, bias=True)\n",
       "    )\n",
       "  )\n",
       ")"
      ]
     },
     "execution_count": 24,
     "metadata": {},
     "output_type": "execute_result"
    }
   ],
   "source": [
    "device = torch.device('cuda') if torch.cuda.is_available() else torch.device('cpu')\n",
    "# and move our model over to the selected device\n",
    "model.to(device)"
   ]
  },
  {
   "cell_type": "code",
   "execution_count": 25,
   "id": "6573a54b-6aec-48e4-94d2-e821a5c2ba05",
   "metadata": {},
   "outputs": [
    {
     "name": "stderr",
     "output_type": "stream",
     "text": [
      "C:\\Users\\Samiran\\AppData\\Local\\Programs\\Python\\Python311\\Lib\\site-packages\\transformers\\optimization.py:429: FutureWarning: This implementation of AdamW is deprecated and will be removed in a future version. Use the PyTorch implementation torch.optim.AdamW instead, or set `no_deprecation_warning=True` to disable this warning\n",
      "  warnings.warn(\n"
     ]
    }
   ],
   "source": [
    "from transformers import AdamW\n",
    "\n",
    "# activate training mode\n",
    "model.train()\n",
    "# initialize optimizer\n",
    "optim = AdamW(model.parameters(), lr=5e-5)"
   ]
  },
  {
   "cell_type": "code",
   "execution_count": 26,
   "id": "5c7e68dc-0a60-4083-853b-cd6003c5a2d1",
   "metadata": {},
   "outputs": [
    {
     "name": "stderr",
     "output_type": "stream",
     "text": [
      "  0%|                                                                                            | 0/1 [00:00<?, ?it/s]C:\\Users\\Samiran\\AppData\\Local\\Temp\\ipykernel_4128\\81523791.py:5: UserWarning: To copy construct from a tensor, it is recommended to use sourceTensor.clone().detach() or sourceTensor.clone().detach().requires_grad_(True), rather than torch.tensor(sourceTensor).\n",
      "  return {key: torch.tensor(val[idx]) for key, val in self.encodings.items()}\n",
      "Epoch 0: 100%|████████████████████████████████████████████████████████████████| 1/1 [00:33<00:00, 33.33s/it, loss=18.9]\n",
      "Epoch 1: 100%|████████████████████████████████████████████████████████████████| 1/1 [00:33<00:00, 33.30s/it, loss=13.5]\n"
     ]
    }
   ],
   "source": [
    "from tqdm import tqdm  # for our progress bar\n",
    "\n",
    "epochs = 2\n",
    "\n",
    "for epoch in range(epochs):\n",
    "    # setup loop with TQDM and dataloader\n",
    "    loop = tqdm(loader, leave=True)\n",
    "    for batch in loop:\n",
    "        # initialize calculated gradients (from prev step)\n",
    "        optim.zero_grad()\n",
    "        # pull all tensor batches required for training\n",
    "        input_ids = batch['input_ids'].to(device)\n",
    "        attention_mask = batch['attention_mask'].to(device)\n",
    "        labels = batch['labels'].to(device)\n",
    "        # process\n",
    "        outputs = model(input_ids, attention_mask=attention_mask,\n",
    "                        labels=labels)\n",
    "        # extract loss\n",
    "        loss = outputs.loss\n",
    "        # calculate loss for every parameter that needs grad update\n",
    "        loss.backward()\n",
    "        # update parameters\n",
    "        optim.step()\n",
    "        # print relevant info to progress bar\n",
    "        loop.set_description(f'Epoch {epoch}')\n",
    "        loop.set_postfix(loss=loss.item())"
   ]
  },
  {
   "cell_type": "code",
   "execution_count": 27,
   "id": "0d9820ac-19b9-4e2b-b2c4-54de04f80f2f",
   "metadata": {},
   "outputs": [
    {
     "name": "stdout",
     "output_type": "stream",
     "text": [
      "WARNING:tensorflow:From C:\\Users\\Samiran\\AppData\\Local\\Programs\\Python\\Python311\\Lib\\site-packages\\keras\\src\\losses.py:2976: The name tf.losses.sparse_softmax_cross_entropy is deprecated. Please use tf.compat.v1.losses.sparse_softmax_cross_entropy instead.\n",
      "\n"
     ]
    }
   ],
   "source": [
    "from transformers import pipeline"
   ]
  },
  {
   "cell_type": "code",
   "execution_count": 28,
   "id": "35870c8c-08de-4862-b231-036472ccc4be",
   "metadata": {},
   "outputs": [
    {
     "name": "stderr",
     "output_type": "stream",
     "text": [
      "Some weights of the model checkpoint at bert-base-uncased were not used when initializing BertForMaskedLM: ['cls.seq_relationship.bias', 'bert.pooler.dense.weight', 'cls.seq_relationship.weight', 'bert.pooler.dense.bias']\n",
      "- This IS expected if you are initializing BertForMaskedLM from the checkpoint of a model trained on another task or with another architecture (e.g. initializing a BertForSequenceClassification model from a BertForPreTraining model).\n",
      "- This IS NOT expected if you are initializing BertForMaskedLM from the checkpoint of a model that you expect to be exactly identical (initializing a BertForSequenceClassification model from a BertForSequenceClassification model).\n"
     ]
    }
   ],
   "source": [
    "fill = pipeline('fill-mask', model = 'bert-base-uncased', tokenizer ='bert-base-uncased')"
   ]
  },
  {
   "cell_type": "code",
   "execution_count": 29,
   "id": "a7f107d9-8f33-45e8-8453-e74a22c6ad24",
   "metadata": {},
   "outputs": [
    {
     "data": {
      "text/plain": [
       "'2'"
      ]
     },
     "execution_count": 29,
     "metadata": {},
     "output_type": "execute_result"
    }
   ],
   "source": [
    "list = fill(f'Iron Man {fill.tokenizer.mask_token}: Robert Downey Jr. talks retirement and new tech preview.')\n",
    "(list[0]['token_str'])"
   ]
  },
  {
   "cell_type": "code",
   "execution_count": 30,
   "id": "15b90a78-158f-43c5-9d26-147d3c4d8fb7",
   "metadata": {},
   "outputs": [],
   "source": [
    "# **TESTING DATA FROM HERE ON**"
   ]
  },
  {
   "cell_type": "code",
   "execution_count": 84,
   "id": "1f97d14d-0ed7-47c0-9eed-5e664592be7f",
   "metadata": {},
   "outputs": [
    {
     "data": {
      "text/plain": [
       "[{'score': 0.06222548708319664,\n",
       "  'token': 1023,\n",
       "  'token_str': '9',\n",
       "  'sequence': 'roberto firmino used to wear jersey number 9 for liverpool'},\n",
       " {'score': 0.04768068715929985,\n",
       "  'token': 1015,\n",
       "  'token_str': '1',\n",
       "  'sequence': 'roberto firmino used to wear jersey number 1 for liverpool'},\n",
       " {'score': 0.045771580189466476,\n",
       "  'token': 1021,\n",
       "  'token_str': '7',\n",
       "  'sequence': 'roberto firmino used to wear jersey number 7 for liverpool'},\n",
       " {'score': 0.043786484748125076,\n",
       "  'token': 2184,\n",
       "  'token_str': '10',\n",
       "  'sequence': 'roberto firmino used to wear jersey number 10 for liverpool'},\n",
       " {'score': 0.03595929592847824,\n",
       "  'token': 1022,\n",
       "  'token_str': '8',\n",
       "  'sequence': 'roberto firmino used to wear jersey number 8 for liverpool'}]"
      ]
     },
     "execution_count": 84,
     "metadata": {},
     "output_type": "execute_result"
    }
   ],
   "source": [
    "list = fill(f'Roberto Firmino used to wear jersey number {fill.tokenizer.mask_token} for Liverpool')\n",
    "list"
   ]
  },
  {
   "cell_type": "code",
   "execution_count": 32,
   "id": "e09ee715-25a9-47ea-8dad-19eb954de1d6",
   "metadata": {},
   "outputs": [],
   "source": [
    "df2 = pd.read_json('test_it_out_data.json')"
   ]
  },
  {
   "cell_type": "code",
   "execution_count": 33,
   "id": "0b4938dd-0ea7-4e5a-8742-2dadcabd449e",
   "metadata": {},
   "outputs": [
    {
     "data": {
      "text/plain": [
       "0    90210\n",
       "1        3\n",
       "2        2\n",
       "3        8\n",
       "4     2011\n",
       "Name: number, dtype: int64"
      ]
     },
     "execution_count": 33,
     "metadata": {},
     "output_type": "execute_result"
    }
   ],
   "source": [
    "X = df2['number']\n",
    "X\n"
   ]
  },
  {
   "cell_type": "code",
   "execution_count": 34,
   "id": "dbad8b9b-322e-4b99-8c96-f66fdc28454b",
   "metadata": {
    "scrolled": true
   },
   "outputs": [],
   "source": [
    "Y = df2['masked'].tolist()\n"
   ]
  },
  {
   "cell_type": "code",
   "execution_count": 35,
   "id": "40b5b064-7273-4f21-be65-160f6ce4f446",
   "metadata": {},
   "outputs": [],
   "source": [
    "for i in range(len(Y)):\n",
    "    Y[i] = Y[i].replace(\"[Num]\",\"{}\")\n",
    "    Y[i] = Y[i].replace(\"'\",\"\")"
   ]
  },
  {
   "cell_type": "code",
   "execution_count": 36,
   "id": "1307673a-3cd6-40e5-8e66-0091f1bca7ac",
   "metadata": {},
   "outputs": [
    {
     "data": {
      "text/plain": [
       "'Kate Plus {}: Kate Gosselin brings out the abs with Jon around'"
      ]
     },
     "execution_count": 36,
     "metadata": {},
     "output_type": "execute_result"
    }
   ],
   "source": [
    "Y[3]"
   ]
  },
  {
   "cell_type": "code",
   "execution_count": 37,
   "id": "60942762-2ec5-4dd2-886c-c7a804740fb1",
   "metadata": {},
   "outputs": [
    {
     "data": {
      "text/plain": [
       "'.'"
      ]
     },
     "execution_count": 37,
     "metadata": {},
     "output_type": "execute_result"
    }
   ],
   "source": [
    "MASK_TOKEN = tokenizer.mask_token\n",
    "\n",
    "fill(Y[0].format(MASK_TOKEN))[0]['token_str']"
   ]
  },
  {
   "cell_type": "code",
   "execution_count": 38,
   "id": "612331d2-cafb-4b2d-9fa2-63db459d9b11",
   "metadata": {},
   "outputs": [],
   "source": [
    "Z=[]\n",
    "for i in range(len(Y)):\n",
    "    MASK_TOKEN = tokenizer.mask_token\n",
    "    Z.append(fill(Y[i].format(MASK_TOKEN))[0]['token_str'])\n",
    "    "
   ]
  },
  {
   "cell_type": "code",
   "execution_count": 39,
   "id": "b5f7ad33-0e03-4e9b-ac31-9c0336244fc1",
   "metadata": {},
   "outputs": [
    {
     "data": {
      "text/plain": [
       "['.', '.', '2', 'one', '2011']"
      ]
     },
     "execution_count": 39,
     "metadata": {},
     "output_type": "execute_result"
    }
   ],
   "source": [
    "Z"
   ]
  },
  {
   "cell_type": "code",
   "execution_count": 40,
   "id": "b23721df-6063-40df-b98a-ea5b9b2f2b2b",
   "metadata": {},
   "outputs": [
    {
     "name": "stdout",
     "output_type": "stream",
     "text": [
      "2\n",
      "2011\n"
     ]
    }
   ],
   "source": [
    "for i in range(len(Z)):\n",
    "    try:\n",
    "        Z[i] = int(Z[i])\n",
    "        print(Z[i])\n",
    "    except ValueError:\n",
    "        Z[i] = 0\n",
    "   "
   ]
  },
  {
   "cell_type": "code",
   "execution_count": 41,
   "id": "03af2c2e-c5c9-4504-ab04-22428f96c77f",
   "metadata": {},
   "outputs": [
    {
     "data": {
      "text/plain": [
       "[0, 0, 2, 0, 2011]"
      ]
     },
     "execution_count": 41,
     "metadata": {},
     "output_type": "execute_result"
    }
   ],
   "source": [
    "Z"
   ]
  },
  {
   "cell_type": "code",
   "execution_count": 42,
   "id": "9c67dab0-1231-4596-8801-66378e9a4a60",
   "metadata": {},
   "outputs": [],
   "source": [
    "X = X.tolist()"
   ]
  },
  {
   "cell_type": "code",
   "execution_count": 43,
   "id": "1efb0d90-c59b-4166-92ae-7cb44b9492d4",
   "metadata": {},
   "outputs": [
    {
     "data": {
      "text/plain": [
       "[90210, 3, 2, 8, 2011]"
      ]
     },
     "execution_count": 43,
     "metadata": {},
     "output_type": "execute_result"
    }
   ],
   "source": [
    "X"
   ]
  },
  {
   "cell_type": "code",
   "execution_count": 44,
   "id": "4aa4575c-6edb-4f9d-918d-f48ced040b73",
   "metadata": {},
   "outputs": [
    {
     "name": "stdout",
     "output_type": "stream",
     "text": [
      "Accuracy: 0.40\n",
      "F1 Score: 0.3333333333333333\n"
     ]
    }
   ],
   "source": [
    "from sklearn.metrics import accuracy_score, f1_score\n",
    "\n",
    "\n",
    "# Calculate accuracy\n",
    "accuracy = accuracy_score(X, Z)\n",
    "f1 = f1_score(X, Z, average='macro')\n",
    "\n",
    "\n",
    "\n",
    "print(f\"Accuracy: {accuracy:.2f}\")\n",
    "print(\"F1 Score:\", f1)"
   ]
  },
  {
   "cell_type": "code",
   "execution_count": 45,
   "id": "6cc0ae90-73a4-450e-aeea-70c3dc3b358f",
   "metadata": {},
   "outputs": [
    {
     "name": "stdout",
     "output_type": "stream",
     "text": [
      "              precision    recall  f1-score   support\n",
      "\n",
      "           0       0.00      0.00      0.00         0\n",
      "           2       1.00      1.00      1.00         1\n",
      "           3       0.00      0.00      0.00         1\n",
      "           8       0.00      0.00      0.00         1\n",
      "        2011       1.00      1.00      1.00         1\n",
      "       90210       0.00      0.00      0.00         1\n",
      "\n",
      "    accuracy                           0.40         5\n",
      "   macro avg       0.33      0.33      0.33         5\n",
      "weighted avg       0.40      0.40      0.40         5\n",
      "\n"
     ]
    },
    {
     "name": "stderr",
     "output_type": "stream",
     "text": [
      "C:\\Users\\Samiran\\AppData\\Local\\Programs\\Python\\Python311\\Lib\\site-packages\\sklearn\\metrics\\_classification.py:1497: UndefinedMetricWarning: Precision is ill-defined and being set to 0.0 in labels with no predicted samples. Use `zero_division` parameter to control this behavior.\n",
      "  _warn_prf(average, modifier, f\"{metric.capitalize()} is\", len(result))\n",
      "C:\\Users\\Samiran\\AppData\\Local\\Programs\\Python\\Python311\\Lib\\site-packages\\sklearn\\metrics\\_classification.py:1497: UndefinedMetricWarning: Recall is ill-defined and being set to 0.0 in labels with no true samples. Use `zero_division` parameter to control this behavior.\n",
      "  _warn_prf(average, modifier, f\"{metric.capitalize()} is\", len(result))\n",
      "C:\\Users\\Samiran\\AppData\\Local\\Programs\\Python\\Python311\\Lib\\site-packages\\sklearn\\metrics\\_classification.py:1497: UndefinedMetricWarning: Precision is ill-defined and being set to 0.0 in labels with no predicted samples. Use `zero_division` parameter to control this behavior.\n",
      "  _warn_prf(average, modifier, f\"{metric.capitalize()} is\", len(result))\n",
      "C:\\Users\\Samiran\\AppData\\Local\\Programs\\Python\\Python311\\Lib\\site-packages\\sklearn\\metrics\\_classification.py:1497: UndefinedMetricWarning: Recall is ill-defined and being set to 0.0 in labels with no true samples. Use `zero_division` parameter to control this behavior.\n",
      "  _warn_prf(average, modifier, f\"{metric.capitalize()} is\", len(result))\n",
      "C:\\Users\\Samiran\\AppData\\Local\\Programs\\Python\\Python311\\Lib\\site-packages\\sklearn\\metrics\\_classification.py:1497: UndefinedMetricWarning: Precision is ill-defined and being set to 0.0 in labels with no predicted samples. Use `zero_division` parameter to control this behavior.\n",
      "  _warn_prf(average, modifier, f\"{metric.capitalize()} is\", len(result))\n",
      "C:\\Users\\Samiran\\AppData\\Local\\Programs\\Python\\Python311\\Lib\\site-packages\\sklearn\\metrics\\_classification.py:1497: UndefinedMetricWarning: Recall is ill-defined and being set to 0.0 in labels with no true samples. Use `zero_division` parameter to control this behavior.\n",
      "  _warn_prf(average, modifier, f\"{metric.capitalize()} is\", len(result))\n"
     ]
    }
   ],
   "source": [
    "from sklearn.metrics import classification_report\n",
    "\n",
    "# Assuming 'y_true' is the true class labels and 'y_pred' is the predicted class labels\n",
    "report = classification_report(X, Z)\n",
    "\n",
    "print(report)\n"
   ]
  },
  {
   "cell_type": "code",
   "execution_count": null,
   "id": "ce0bbb07-b6b4-4793-9aeb-d24f836a5f5d",
   "metadata": {},
   "outputs": [],
   "source": []
  },
  {
   "cell_type": "code",
   "execution_count": null,
   "id": "6980d27a-30b0-4f82-a5b1-e8e0b4861c36",
   "metadata": {},
   "outputs": [],
   "source": []
  }
 ],
 "metadata": {
  "kernelspec": {
   "display_name": "Python 3 (ipykernel)",
   "language": "python",
   "name": "python3"
  },
  "language_info": {
   "codemirror_mode": {
    "name": "ipython",
    "version": 3
   },
   "file_extension": ".py",
   "mimetype": "text/x-python",
   "name": "python",
   "nbconvert_exporter": "python",
   "pygments_lexer": "ipython3",
   "version": "3.11.5"
  }
 },
 "nbformat": 4,
 "nbformat_minor": 5
}
